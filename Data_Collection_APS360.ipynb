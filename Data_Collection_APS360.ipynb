{
  "nbformat": 4,
  "nbformat_minor": 0,
  "metadata": {
    "colab": {
      "provenance": []
    },
    "kernelspec": {
      "name": "python3",
      "display_name": "Python 3"
    },
    "language_info": {
      "name": "python"
    }
  },
  "cells": [
    {
      "cell_type": "code",
      "execution_count": 40,
      "metadata": {
        "colab": {
          "base_uri": "https://localhost:8080/"
        },
        "id": "1PdTu4dIluJ6",
        "outputId": "217734cc-657f-4bb8-ddbf-d71b4a0a2be6"
      },
      "outputs": [
        {
          "output_type": "stream",
          "name": "stdout",
          "text": [
            "Downloading 3571264.mp4...\n",
            "Download complete: 3571264.mp4\n",
            "Downloading 6394054.mp4...\n",
            "Download complete: 6394054.mp4\n",
            "Downloading 5896379.mp4...\n",
            "Download complete: 5896379.mp4\n",
            "Downloading 5147455.mp4...\n",
            "Download complete: 5147455.mp4\n",
            "Downloading 6981411.mp4...\n",
            "Download complete: 6981411.mp4\n",
            "Downloading 3173312.mp4...\n",
            "Download complete: 3173312.mp4\n",
            "Downloading 4763824.mp4...\n",
            "Download complete: 4763824.mp4\n",
            "Downloading 8820216.mp4...\n",
            "Download complete: 8820216.mp4\n",
            "Downloading 1448735.mp4...\n",
            "Download complete: 1448735.mp4\n",
            "Downloading 3214448.mp4...\n",
            "Download complete: 3214448.mp4\n"
          ]
        }
      ],
      "source": [
        "import requests\n",
        "import os\n",
        "\n",
        "# Define your search query and set the number of videos to be downloaded\n",
        "query = \"nature\"\n",
        "num_videos = 10\n",
        "\n",
        "# Define the API endpoint and set the request headers\n",
        "endpoint = f\"https://api.pexels.com/videos/search?query={query}&per_page={num_videos}\"\n",
        "headers = {\"Authorization\": \"JoVrlnkL7OsBJc7JofKdAHaO4epwlLGE78NZQGRcnGHDjCLHLUBgI1Md\"}\n",
        "\n",
        "# Send the GET request to the API endpoint and get the JSON response\n",
        "response = requests.get(endpoint, headers=headers)\n",
        "data = response.json()\n",
        "\n",
        "# Loop through each video in the response and download it\n",
        "for video in data[\"videos\"]:\n",
        "    video_url = video[\"video_files\"][0][\"link\"]\n",
        "    filename = f\"{video['id']}.mp4\"\n",
        "    print(f\"Downloading {filename}...\")\n",
        "    response = requests.get(video_url, headers=headers)\n",
        "    with open(filename, \"wb\") as f:\n",
        "        f.write(response.content)\n",
        "    print(f\"Download complete: {filename}\")\n"
      ]
    },
    {
      "cell_type": "code",
      "source": [
        "import requests\n",
        "import shutil\n",
        "import os\n",
        "\n",
        "# Set up the API credentials and search query\n",
        "api_key = 'v2/V2ZzbnpQNFQ1OGZPQWhNVDEzSGtlT2pHTWlJb3VWT2MvMzg1MTQ5NTk1L2N1c3RvbWVyLzQvTGNvdXdrUmZ1aEhaSUZfMUItd3dxU3V6NjFqN3hCVmpaa2FJTUVjbW5MN0ZBcDloMFpSTk9Jd0pCZ2RYcnZkRTA5bVRac2Y3MExTUXFRbS1EQ1FiV1RpSTd3bFpxQjN1THVxVzE3Rl84ajUyZjZaZm5SVkJkN2tTU2pZOTRzZnRGdXFzVWhKQ0hzY0g2WWVKZUJYVWVEUG5aRHdWcUFzUkwzRHZDbVpMVTdBdDd6S0hXUVdIUjhQZnF0cE9lOGNxQzVmaFAtakZnRzRrSS1ZWEsyVkkzUS9YYk5nQUZscHFCU29KNWozcVdGQWdR'\n",
        "query = 'waterfall'\n",
        "\n",
        "# Set up the API request\n",
        "url = f'https://api.shutterstock.com/v2/videos/search?query={query}&per_page=10'\n",
        "headers = {'Authorization': f'Bearer {api_key}'}\n",
        "\n",
        "# Send the API request and get the response\n",
        "response = requests.get(url, headers=headers)\n",
        "\n",
        "# Extract the URLs of the videos from the response JSON\n",
        "videos = response.json()['data']\n",
        "video_urls = [video['assets']['preview_mp4']['url'] for video in videos]\n",
        "\n",
        "# Download the videos and save them to the current working directory\n",
        "for i, url in enumerate(video_urls):\n",
        "    response = requests.get(url, stream=True)\n",
        "    filename = f'{query}_{i+1}.mp4'\n",
        "    with open(filename, 'wb') as f:\n",
        "        response.raw.decode_content = True\n",
        "        shutil.copyfileobj(response.raw, f)\n",
        "    print(f'{filename} downloaded successfully.')\n",
        "\n",
        "print('All videos downloaded.')"
      ],
      "metadata": {
        "colab": {
          "base_uri": "https://localhost:8080/"
        },
        "id": "_87pPe4re-NP",
        "outputId": "4e15fe2d-62c6-41c8-af20-45ad925351cd"
      },
      "execution_count": 41,
      "outputs": [
        {
          "output_type": "stream",
          "name": "stdout",
          "text": [
            "waterfall_1.mp4 downloaded successfully.\n",
            "waterfall_2.mp4 downloaded successfully.\n",
            "waterfall_3.mp4 downloaded successfully.\n",
            "waterfall_4.mp4 downloaded successfully.\n",
            "waterfall_5.mp4 downloaded successfully.\n",
            "waterfall_6.mp4 downloaded successfully.\n",
            "waterfall_7.mp4 downloaded successfully.\n",
            "waterfall_8.mp4 downloaded successfully.\n",
            "waterfall_9.mp4 downloaded successfully.\n",
            "waterfall_10.mp4 downloaded successfully.\n",
            "All videos downloaded.\n"
          ]
        }
      ]
    },
    {
      "cell_type": "code",
      "source": [
        "import requests\n",
        "import json\n",
        "import os\n",
        "\n",
        "# Set up the API endpoint URL and parameters\n",
        "API_ENDPOINT = \"https://pixabay.com/api/videos/\"\n",
        "API_KEY = \"34482929-1cec6e9f8a8e57c3308548db4\"\n",
        "query = \"waterfall\"  # replace with your desired search term\n",
        "params = {\n",
        "    \"key\": API_KEY,\n",
        "    \"q\": query,\n",
        "    \"safesearch\": \"true\",\n",
        "    \"per_page\": 20,\n",
        "    \"orientation\": \"horizontal\",\n",
        "    \"category\": \"nature\",\n",
        "    \"video_type\": \"film\",\n",
        "}\n",
        "\n",
        "# Send a request to the API endpoint\n",
        "response = requests.get(API_ENDPOINT, params=params)\n",
        "\n",
        "# Parse the JSON response and extract video URLs\n",
        "data = json.loads(response.text)\n",
        "videos = [result[\"videos\"][\"large\"][\"url\"] for result in data[\"hits\"]]\n",
        "\n",
        "# Download the videos\n",
        "for i, video_url in enumerate(videos):\n",
        "    # Construct a filename using the search term and index of the video\n",
        "    filename = f\"{query}_{i}.mp4\"\n",
        "    # Send a request to download the video\n",
        "    response = requests.get(video_url)\n",
        "    # Save the video to the current working directory\n",
        "    with open(filename, \"wb\") as f:\n",
        "        f.write(response.content)\n",
        "    print(f\"Downloaded video {i+1}/{len(videos)}\")\n"
      ],
      "metadata": {
        "colab": {
          "base_uri": "https://localhost:8080/"
        },
        "id": "Y6q2itR7g5Zl",
        "outputId": "c5232ace-ae2c-44df-b942-4bb488e80183"
      },
      "execution_count": 42,
      "outputs": [
        {
          "output_type": "stream",
          "name": "stdout",
          "text": [
            "Downloaded video 1/20\n",
            "Downloaded video 2/20\n",
            "Downloaded video 3/20\n",
            "Downloaded video 4/20\n",
            "Downloaded video 5/20\n",
            "Downloaded video 6/20\n",
            "Downloaded video 7/20\n",
            "Downloaded video 8/20\n",
            "Downloaded video 9/20\n",
            "Downloaded video 10/20\n",
            "Downloaded video 11/20\n",
            "Downloaded video 12/20\n",
            "Downloaded video 13/20\n",
            "Downloaded video 14/20\n",
            "Downloaded video 15/20\n",
            "Downloaded video 16/20\n",
            "Downloaded video 17/20\n",
            "Downloaded video 18/20\n",
            "Downloaded video 19/20\n",
            "Downloaded video 20/20\n"
          ]
        }
      ]
    }
  ]
}