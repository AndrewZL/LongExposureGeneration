{
 "cells": [
  {
   "cell_type": "code",
   "execution_count": 1,
   "id": "4523f972",
   "metadata": {
    "_cell_guid": "b1076dfc-b9ad-4769-8c92-a6c4dae69d19",
    "_uuid": "8f2839f25d086af736a60e9eeb907d3b93b6e0e5",
    "execution": {
     "iopub.execute_input": "2023-04-04T04:49:51.800732Z",
     "iopub.status.busy": "2023-04-04T04:49:51.800235Z",
     "iopub.status.idle": "2023-04-04T04:49:54.420296Z",
     "shell.execute_reply": "2023-04-04T04:49:54.419217Z"
    },
    "papermill": {
     "duration": 2.629774,
     "end_time": "2023-04-04T04:49:54.422952",
     "exception": false,
     "start_time": "2023-04-04T04:49:51.793178",
     "status": "completed"
    },
    "tags": []
   },
   "outputs": [],
   "source": [
    "import os\n",
    "import gc\n",
    "\n",
    "import matplotlib.pyplot as plt\n",
    "import numpy as np\n",
    "\n",
    "import torch\n",
    "import torch.nn as nn\n",
    "import torch.nn.functional as F\n",
    "from torch.optim import Adam\n",
    "\n",
    "from torch.utils.data import Dataset, DataLoader\n",
    "from torchvision.io import read_image\n",
    "from torchvision.transforms import ToTensor\n",
    "from torchinfo import summary\n",
    "\n",
    "from tqdm import tqdm"
   ]
  },
  {
   "cell_type": "markdown",
   "id": "a6460ee1",
   "metadata": {
    "papermill": {
     "duration": 0.004108,
     "end_time": "2023-04-04T04:49:54.432781",
     "exception": false,
     "start_time": "2023-04-04T04:49:54.428673",
     "status": "completed"
    },
    "tags": []
   },
   "source": [
    "# Data Loading"
   ]
  },
  {
   "cell_type": "code",
   "execution_count": 2,
   "id": "2ef08263",
   "metadata": {
    "execution": {
     "iopub.execute_input": "2023-04-04T04:49:54.444081Z",
     "iopub.status.busy": "2023-04-04T04:49:54.442236Z",
     "iopub.status.idle": "2023-04-04T04:49:54.450968Z",
     "shell.execute_reply": "2023-04-04T04:49:54.449972Z"
    },
    "papermill": {
     "duration": 0.016222,
     "end_time": "2023-04-04T04:49:54.453114",
     "exception": false,
     "start_time": "2023-04-04T04:49:54.436892",
     "status": "completed"
    },
    "tags": []
   },
   "outputs": [],
   "source": [
    "class SkyDataset(Dataset):\n",
    "    def __init__(self, train_dir, gt_dir):\n",
    "        self.train_root = train_dir\n",
    "        self.gt_root = gt_dir\n",
    "        self.train_dirs = sorted(os.listdir(train_dir))\n",
    "        self.gt_dirs = sorted(os.listdir(gt_dir))\n",
    "        \n",
    "    def __len__(self):\n",
    "        return len(self.train_dirs)\n",
    "    \n",
    "    def __getitem__(self, idx):\n",
    "        train_seq = torch.stack([read_image(os.path.join(self.train_root, self.train_dirs[idx], x))/255.0 for x in sorted(os.listdir(os.path.join(self.train_root, self.train_dirs[idx])))])\n",
    "        gt_seq = torch.stack([read_image(os.path.join(self.gt_root, self.gt_dirs[idx], x))/255.0 for x in sorted(os.listdir(os.path.join(self.gt_root, self.gt_dirs[idx])))])\n",
    "        return train_seq, gt_seq\n"
   ]
  },
  {
   "cell_type": "code",
   "execution_count": 3,
   "id": "6f694e84",
   "metadata": {
    "execution": {
     "iopub.execute_input": "2023-04-04T04:49:54.462256Z",
     "iopub.status.busy": "2023-04-04T04:49:54.461981Z",
     "iopub.status.idle": "2023-04-04T04:49:54.706465Z",
     "shell.execute_reply": "2023-04-04T04:49:54.705414Z"
    },
    "papermill": {
     "duration": 0.252096,
     "end_time": "2023-04-04T04:49:54.709176",
     "exception": false,
     "start_time": "2023-04-04T04:49:54.457080",
     "status": "completed"
    },
    "tags": []
   },
   "outputs": [],
   "source": [
    "input_dir = '../SkyDataset/train'\n",
    "gt_dir = '../SkyDataset/gt'\n",
    "train_set = SkyDataset(input_dir, gt_dir)\n",
    "train_dataloader = DataLoader(train_set, batch_size=2, shuffle=True)"
   ]
  },
  {
   "cell_type": "code",
   "execution_count": null,
   "outputs": [],
   "source": [
    "device = 'cuda' if torch.cuda.is_available() else 'cpu'\n",
    "torch.set_default_device(device)\n",
    "gc.collect()\n",
    "torch.cuda.empty_cache()"
   ],
   "metadata": {
    "collapsed": false
   }
  },
  {
   "cell_type": "markdown",
   "id": "0fd5c5dc",
   "metadata": {
    "papermill": {
     "duration": 0.003913,
     "end_time": "2023-04-04T04:49:54.717464",
     "exception": false,
     "start_time": "2023-04-04T04:49:54.713551",
     "status": "completed"
    },
    "tags": []
   },
   "source": [
    "# Model Construction"
   ]
  },
  {
   "cell_type": "code",
   "execution_count": 4,
   "id": "2294ef63",
   "metadata": {
    "execution": {
     "iopub.execute_input": "2023-04-04T04:49:54.727186Z",
     "iopub.status.busy": "2023-04-04T04:49:54.726878Z",
     "iopub.status.idle": "2023-04-04T04:49:54.736348Z",
     "shell.execute_reply": "2023-04-04T04:49:54.735344Z"
    },
    "papermill": {
     "duration": 0.016973,
     "end_time": "2023-04-04T04:49:54.738490",
     "exception": false,
     "start_time": "2023-04-04T04:49:54.721517",
     "status": "completed"
    },
    "tags": []
   },
   "outputs": [],
   "source": [
    "class MotionEncoder(nn.Module):\n",
    "    def __init__(self, in_c=2, out_c=8):\n",
    "        super(MotionEncoder, self).__init__()\n",
    "        self.conv_layers = nn.Sequential(\n",
    "            nn.Conv2d(in_c, 64, kernel_size=3, stride=2, padding=1),\n",
    "            nn.BatchNorm2d(64),\n",
    "            nn.LeakyReLU(),\n",
    "            nn.Conv2d(64, 128, kernel_size=3, stride=2, padding=1),\n",
    "            nn.BatchNorm2d(128),\n",
    "            nn.LeakyReLU(),\n",
    "            nn.Conv2d(128, 256, kernel_size=3, stride=2, padding=1),\n",
    "            nn.BatchNorm2d(256),\n",
    "            nn.LeakyReLU(),\n",
    "            nn.Conv2d(256, 256, kernel_size=3, stride=2, padding=1),\n",
    "            nn.BatchNorm2d(256),\n",
    "            nn.LeakyReLU(),\n",
    "            nn.Conv2d(256, 256, kernel_size=8, stride=8, padding=0),\n",
    "            nn.LeakyReLU()\n",
    "        )\n",
    "        if in_c > 2:\n",
    "            in_dim = 2560\n",
    "        else:\n",
    "            in_dim = 256\n",
    "        self.fc = nn.Linear(in_dim, out_c) # latent\n",
    "        self.fc_variance = nn.Linear(in_dim, out_c)\n",
    "\n",
    "    def forward(self, x):\n",
    "        x_c = self.conv_layers(x)\n",
    "        x_flatten = x_c.view(x.size(0), -1)\n",
    "        out = self.fc(x_flatten)\n",
    "        var = self.fc_variance(x_flatten)\n",
    "        return out, var"
   ]
  },
  {
   "cell_type": "code",
   "execution_count": 5,
   "id": "2cd23357",
   "metadata": {
    "execution": {
     "iopub.execute_input": "2023-04-04T04:49:54.748021Z",
     "iopub.status.busy": "2023-04-04T04:49:54.747747Z",
     "iopub.status.idle": "2023-04-04T04:49:54.757142Z",
     "shell.execute_reply": "2023-04-04T04:49:54.756080Z"
    },
    "papermill": {
     "duration": 0.01654,
     "end_time": "2023-04-04T04:49:54.759184",
     "exception": false,
     "start_time": "2023-04-04T04:49:54.742644",
     "status": "completed"
    },
    "tags": []
   },
   "outputs": [],
   "source": [
    "class MotionDecoder(nn.Module):\n",
    "    def __init__(self, in_c=1280, out_c=64):\n",
    "        super(MotionDecoder, self).__init__()\n",
    "        self.fc = nn.Linear(in_c, 2560) # latent\n",
    "        \n",
    "        self.conv_layers = nn.Sequential(\n",
    "            nn.ConvTranspose2d(256, 256, kernel_size=8, stride=8, padding=0, output_padding=0),\n",
    "            nn.LeakyReLU(),\n",
    "            nn.ConvTranspose2d(256, 256, kernel_size=3, stride=2, padding=1, output_padding=(1,0)),\n",
    "            nn.LeakyReLU(),\n",
    "            nn.BatchNorm2d(256),\n",
    "            nn.ConvTranspose2d(256, 128, kernel_size=3, stride=2, padding=1, output_padding=(1,0)),\n",
    "            nn.BatchNorm2d(128),\n",
    "            nn.LeakyReLU(),\n",
    "            nn.ConvTranspose2d(128, 64, kernel_size=3, stride=2, padding=1, output_padding=(1,0)),\n",
    "            nn.BatchNorm2d(64),\n",
    "            nn.LeakyReLU(),\n",
    "            nn.ConvTranspose2d(64, out_c, kernel_size=5, stride=2, padding=2, output_padding=(1,0)),\n",
    "            nn.BatchNorm2d(out_c),\n",
    "            nn.LeakyReLU()\n",
    "        )\n",
    "    \n",
    "    def forward(self, z):\n",
    "        x = self.fc(z)\n",
    "        x = x.view(-1, 256, 2, 5)\n",
    "        x_c = self.conv_layers(x)\n",
    "        # upsample to match the original input size\n",
    "        x_c = F.interpolate(x_c, size=(360, 640), mode='bilinear', align_corners=True)\n",
    "        return x_c\n"
   ]
  },
  {
   "cell_type": "code",
   "execution_count": 6,
   "id": "9f6ce037",
   "metadata": {
    "execution": {
     "iopub.execute_input": "2023-04-04T04:49:54.769559Z",
     "iopub.status.busy": "2023-04-04T04:49:54.768095Z",
     "iopub.status.idle": "2023-04-04T04:49:54.778790Z",
     "shell.execute_reply": "2023-04-04T04:49:54.777912Z"
    },
    "papermill": {
     "duration": 0.017737,
     "end_time": "2023-04-04T04:49:54.780913",
     "exception": false,
     "start_time": "2023-04-04T04:49:54.763176",
     "status": "completed"
    },
    "tags": []
   },
   "outputs": [],
   "source": [
    "class ConvLSTMCell(nn.Module):\n",
    "    def __init__(self, input_dim, hidden_dim, kernel_size):\n",
    "        super(ConvLSTMCell, self).__init__()\n",
    "\n",
    "        self.input_dim = input_dim\n",
    "        self.hidden_dim = hidden_dim\n",
    "\n",
    "        self.kernel_size = kernel_size\n",
    "        self.padding = kernel_size // 2\n",
    "\n",
    "        self.conv = nn.Conv2d(in_channels=self.input_dim + self.hidden_dim,\n",
    "                              out_channels=4*self.hidden_dim,\n",
    "                              kernel_size=self.kernel_size,\n",
    "                              padding=self.padding)\n",
    "\n",
    "    def forward(self, input_tensor, cur_state):\n",
    "        h_cur, c_cur = cur_state\n",
    "        combined = torch.cat([input_tensor, h_cur], dim=1)\n",
    "\n",
    "        combined_conv = self.conv(combined)\n",
    "        cc_i, cc_f, cc_o, cc_g = torch.split(combined_conv, self.hidden_dim, dim=1)\n",
    "        i = torch.sigmoid(cc_i)\n",
    "        f = torch.sigmoid(cc_f)\n",
    "        o = torch.sigmoid(cc_o)\n",
    "        g = torch.tanh(cc_g)\n",
    "\n",
    "        c_next = f * c_cur + i * g\n",
    "        h_next = o * torch.tanh(c_next)\n",
    "        return h_next, c_next\n",
    "\n",
    "    def init_hidden(self, batch_size, image_size):\n",
    "        height, width = image_size\n",
    "        return (torch.zeros(batch_size, self.hidden_dim, height, width),\n",
    "                torch.zeros(batch_size, self.hidden_dim, height, width))\n"
   ]
  },
  {
   "cell_type": "code",
   "execution_count": 7,
   "id": "cbdf014b",
   "metadata": {
    "execution": {
     "iopub.execute_input": "2023-04-04T04:49:54.791632Z",
     "iopub.status.busy": "2023-04-04T04:49:54.790097Z",
     "iopub.status.idle": "2023-04-04T04:49:54.806184Z",
     "shell.execute_reply": "2023-04-04T04:49:54.805242Z"
    },
    "papermill": {
     "duration": 0.023289,
     "end_time": "2023-04-04T04:49:54.808338",
     "exception": false,
     "start_time": "2023-04-04T04:49:54.785049",
     "status": "completed"
    },
    "tags": []
   },
   "outputs": [],
   "source": [
    "class CVAE(nn.Module):\n",
    "    def __init__(self, nf, in_chan):\n",
    "        super(CVAE, self).__init__()\n",
    "        self.nf = nf\n",
    "        self.e1 = ConvLSTMCell(input_dim=in_chan, hidden_dim=nf,kernel_size=3)\n",
    "        self.e2 = ConvLSTMCell(input_dim=nf, hidden_dim=nf, kernel_size=3)\n",
    "        self.e_VAE = MotionEncoder(in_c=10, out_c=1280)\n",
    "        self.d_VAE = MotionDecoder(in_c=1280, out_c=10)\n",
    "        self.d1 = ConvLSTMCell(input_dim=nf, hidden_dim=nf, kernel_size=3)\n",
    "        self.d2 = ConvLSTMCell(input_dim=nf, hidden_dim=nf, kernel_size=3)\n",
    "\n",
    "    def reparameterize(self, mu, logvar):\n",
    "        std = torch.exp(0.5 * logvar)\n",
    "        noise = torch.randn_like(std).cuda()\n",
    "        return mu + noise * std\n",
    "\n",
    "    def autoencoder(self, x, seq_len, future_step, h_t, c_t, h_t2, c_t2, h_t3, c_t3, h_t4, c_t4):\n",
    "        outputs = []\n",
    "        for t in range(seq_len):\n",
    "            h_t, c_t = self.e1(input_tensor=x[:, t, :, :], cur_state=[h_t, c_t])\n",
    "            h_t2, c_t2 = self.e2(input_tensor=h_t, cur_state=[h_t2, c_t2])\n",
    "        mu, logvar = self.e_VAE(h_t2)\n",
    "        z = self.reparameterize(mu, logvar)\n",
    "        z = self.d_VAE(z)\n",
    "        h_t2 = z\n",
    "        for t in range(future_step):\n",
    "            h_t3, c_t3 = self.d1(input_tensor=h_t2, cur_state=[h_t3, c_t3])\n",
    "            h_t4, c_t4 = self.d2(input_tensor=h_t3, cur_state=[h_t4, c_t4])\n",
    "            outputs += [h_t4]\n",
    "\n",
    "        outputs = torch.stack(outputs, 1)\n",
    "        outputs = outputs.permute(0, 2, 1, 3, 4)\n",
    "        outputs = self.decoder_CNN(outputs)\n",
    "        outputs = torch.nn.Sigmoid()(outputs)\n",
    "        return outputs\n",
    "\n",
    "    def forward(self, x, future_seq=10):\n",
    "        b, seq_len, c, h, w = x.size()\n",
    "\n",
    "        h_t, c_t = self.e1.init_hidden(batch_size=b, image_size=(h, w))\n",
    "        h_t2, c_t2 = self.e2.init_hidden(batch_size=b, image_size=(h, w))\n",
    "        h_t3, c_t3 = self.d1.init_hidden(batch_size=b, image_size=(h, w))\n",
    "        h_t4, c_t4 = self.d2.init_hidden(batch_size=b, image_size=(h, w))\n",
    "\n",
    "        outputs = self.autoencoder(x, seq_len, future_seq, h_t, c_t, h_t2, c_t2, h_t3, c_t3, h_t4, c_t4)\n",
    "        return outputs"
   ]
  },
  {
   "cell_type": "code",
   "execution_count": 8,
   "id": "32eeba5c",
   "metadata": {
    "execution": {
     "iopub.execute_input": "2023-04-04T04:49:54.818705Z",
     "iopub.status.busy": "2023-04-04T04:49:54.817231Z",
     "iopub.status.idle": "2023-04-04T04:49:58.129782Z",
     "shell.execute_reply": "2023-04-04T04:49:58.128709Z"
    },
    "papermill": {
     "duration": 3.320516,
     "end_time": "2023-04-04T04:49:58.132837",
     "exception": false,
     "start_time": "2023-04-04T04:49:54.812321",
     "status": "completed"
    },
    "tags": []
   },
   "outputs": [
    {
     "name": "stderr",
     "output_type": "stream",
     "text": [
      "Downloading: \"https://download.pytorch.org/models/raft_small_C_T_V2-01064c6d.pth\" to /root/.cache/torch/hub/checkpoints/raft_small_C_T_V2-01064c6d.pth\n"
     ]
    }
   ],
   "source": [
    "from torchvision.models.optical_flow import raft_small, Raft_Small_Weights\n",
    "from torchvision.utils import flow_to_image\n",
    "from torchvision import transforms\n",
    "\n",
    "weights = Raft_Small_Weights.DEFAULT\n",
    "flow_model = raft_small(weights=Raft_Small_Weights.DEFAULT, progress=False).to(device)\n",
    "flow_model = flow_model.eval()\n",
    "flow_tf = weights.transforms()"
   ]
  },
  {
   "cell_type": "markdown",
   "id": "705b9269",
   "metadata": {
    "papermill": {
     "duration": 0.004405,
     "end_time": "2023-04-04T04:49:58.142374",
     "exception": false,
     "start_time": "2023-04-04T04:49:58.137969",
     "status": "completed"
    },
    "tags": []
   },
   "source": [
    "# Train"
   ]
  },
  {
   "cell_type": "markdown",
   "id": "96ba512f",
   "metadata": {
    "papermill": {
     "duration": 0.004174,
     "end_time": "2023-04-04T04:49:58.168551",
     "exception": false,
     "start_time": "2023-04-04T04:49:58.164377",
     "status": "completed"
    },
    "tags": []
   },
   "source": [
    "### Hyperparams"
   ]
  },
  {
   "cell_type": "code",
   "execution_count": 10,
   "id": "78e979f3",
   "metadata": {
    "execution": {
     "iopub.execute_input": "2023-04-04T04:49:58.178177Z",
     "iopub.status.busy": "2023-04-04T04:49:58.177867Z",
     "iopub.status.idle": "2023-04-04T04:49:58.182492Z",
     "shell.execute_reply": "2023-04-04T04:49:58.181484Z"
    },
    "papermill": {
     "duration": 0.011635,
     "end_time": "2023-04-04T04:49:58.184512",
     "exception": false,
     "start_time": "2023-04-04T04:49:58.172877",
     "status": "completed"
    },
    "tags": []
   },
   "outputs": [],
   "source": [
    "lr=1e-4\n",
    "num_epochs=200\n",
    "img_w = 640\n",
    "img_h = 360"
   ]
  },
  {
   "cell_type": "code",
   "execution_count": 12,
   "id": "ad623ab2",
   "metadata": {
    "execution": {
     "iopub.execute_input": "2023-04-04T04:49:58.211647Z",
     "iopub.status.busy": "2023-04-04T04:49:58.210710Z",
     "iopub.status.idle": "2023-04-04T04:49:58.223996Z",
     "shell.execute_reply": "2023-04-04T04:49:58.223072Z"
    },
    "papermill": {
     "duration": 0.020805,
     "end_time": "2023-04-04T04:49:58.226176",
     "exception": false,
     "start_time": "2023-04-04T04:49:58.205371",
     "status": "completed"
    },
    "tags": []
   },
   "outputs": [],
   "source": [
    "def train_net(me, cvae, optim_me, optim_cvae):\n",
    "    criterion = nn.MSELoss()\n",
    "    train_loss = []\n",
    "    \n",
    "    for epoch in range(num_epochs):\n",
    "        total_loss = 0\n",
    "        for inputs, gts in train_dataloader:\n",
    "            inputs = inputs.to(device)\n",
    "            gts = gts.to(device)\n",
    "            \n",
    "            # find flow\n",
    "            b1 = inputs[:, 0]\n",
    "            b2 = inputs[:, 1]\n",
    "            b1, b2 = flow_tf(b1, b2)\n",
    "            flow = torch.stack(flow_model(b1, b2))\n",
    "            flow = flow[-1][0].unsqueeze(0)\n",
    "            flow = F.interpolate(flow, size=(128,128), mode='bilinear', align_corners=True)\n",
    "            z, logvar = me(flow)\n",
    "\n",
    "            # stack\n",
    "            z_matched = z.view(z.size(0), z.size(1), 1, 1).expand(inputs.size(0), inputs.size(1), z.size(1), inputs[0].size(2), inputs[0].size(3))      \n",
    "            inputs = torch.cat((inputs, z_matched), 2)\n",
    "            \n",
    "            # inference\n",
    "            preds = cvae(inputs).permute(0, 2, 1, 3, 4)\n",
    "            optim_me.zero_grad()\n",
    "            optim_cvae.zero_grad()\n",
    "            loss = criterion(preds, gts)  # reconstruction MSE loss\n",
    "            loss += torch.mean(-0.5 * torch.sum(1 + logvar - z ** 2 - logvar.exp(), dim = 1), dim = 0)  # KL\n",
    "            loss.backward()\n",
    "            optim_me.step()\n",
    "            optim_cvae.step()\n",
    "            \n",
    "            total_loss += loss.item()\n",
    "\n",
    "        train_loss.append(float(total_loss) / len(train_dataloader))\n",
    "        print(\"Epoch {}: Train loss: {}\". format(epoch + 1, train_loss[epoch]))\n",
    "        if (epoch + 1)%10 == 0:\n",
    "            torch.save({\n",
    "                'epoch': epoch,\n",
    "                'me': me.state_dict(),\n",
    "                'cvae': cvae.state_dict(),\n",
    "                'optim_me': optim_me.state_dict(),\n",
    "                'optim_cvae': optim_cvae.state_dict()\n",
    "                }, \n",
    "                f'/checkpoints/checkpoint_cvae_{epoch}.pt')\n",
    "        np.savetxt(f'loss_{epoch}.txt', train_loss)\n"
   ]
  },
  {
   "cell_type": "code",
   "execution_count": 13,
   "id": "5c4689d3",
   "metadata": {
    "execution": {
     "iopub.execute_input": "2023-04-04T04:49:58.236679Z",
     "iopub.status.busy": "2023-04-04T04:49:58.235739Z",
     "iopub.status.idle": "2023-04-04T04:50:01.431582Z",
     "shell.execute_reply": "2023-04-04T04:50:01.430558Z"
    },
    "papermill": {
     "duration": 3.203752,
     "end_time": "2023-04-04T04:50:01.434244",
     "exception": false,
     "start_time": "2023-04-04T04:49:58.230492",
     "status": "completed"
    },
    "tags": []
   },
   "outputs": [],
   "source": [
    "me = MotionEncoder()\n",
    "me = me.cuda(0)\n",
    "cvae = CVAE(nf = 10, in_chan = 11)\n",
    "cvae = cvae.cuda(0)\n",
    "\n",
    "optim_me = Adam(me.parameters(), lr=1e-4)\n",
    "optim_cvae = Adam(cvae.parameters(), lr=1e-4)\n",
    "\n",
    "# checkpoint = torch.load('checkpoints/checkpoint_cvae_0.pt')\n",
    "# me.load_state_dict(checkpoint['me'])\n",
    "# cvae.load_state_dict(checkpoint['cvae'])\n",
    "# optim_me.load_state_dict(checkpoint['optim_me'])\n",
    "# optim_cvae.load_state_dict(checkpoint['optim_cvae'])"
   ]
  },
  {
   "cell_type": "code",
   "execution_count": 14,
   "outputs": [],
   "source": [
    "gc.collect()\n",
    "torch.cuda.empty_cache()"
   ],
   "metadata": {
    "collapsed": false
   }
  },
  {
   "cell_type": "code",
   "execution_count": 15,
   "id": "ad9345de",
   "metadata": {
    "execution": {
     "iopub.execute_input": "2023-04-04T04:50:01.576946Z",
     "iopub.status.busy": "2023-04-04T04:50:01.576304Z"
    },
    "papermill": {
     "duration": null,
     "end_time": null,
     "exception": false,
     "start_time": "2023-04-04T04:50:01.571006",
     "status": "running"
    },
    "tags": []
   },
   "outputs": [
    {
     "name": "stderr",
     "output_type": "stream",
     "text": [
      "/opt/conda/lib/python3.7/site-packages/torch/nn/functional.py:3734: UserWarning: nn.functional.upsample is deprecated. Use nn.functional.interpolate instead.\n",
      "  warnings.warn(\"nn.functional.upsample is deprecated. Use nn.functional.interpolate instead.\")\n"
     ]
    },
    {
     "name": "stdout",
     "output_type": "stream",
     "text": [
      "Epoch 1: Train loss: 0.005803676136828801\n"
     ]
    },
    {
     "name": "stdout",
     "output_type": "stream",
     "text": [
      "Epoch 2: Train loss: 0.005804224375714647\n"
     ]
    },
    {
     "name": "stdout",
     "output_type": "stream",
     "text": [
      "Epoch 3: Train loss: 0.005815277728153036\n"
     ]
    },
    {
     "name": "stdout",
     "output_type": "stream",
     "text": [
      "Epoch 4: Train loss: 0.005852719964063231\n"
     ]
    },
    {
     "name": "stdout",
     "output_type": "stream",
     "text": [
      "Epoch 5: Train loss: 0.005864058790649189\n"
     ]
    },
    {
     "name": "stdout",
     "output_type": "stream",
     "text": [
      "Epoch 6: Train loss: 0.005861134889555421\n"
     ]
    },
    {
     "name": "stdout",
     "output_type": "stream",
     "text": [
      "Epoch 7: Train loss: 0.005821229141958533\n"
     ]
    },
    {
     "name": "stdout",
     "output_type": "stream",
     "text": [
      "Epoch 8: Train loss: 0.0057949260590558355\n"
     ]
    },
    {
     "name": "stdout",
     "output_type": "stream",
     "text": [
      "Epoch 9: Train loss: 0.005796854089985186\n"
     ]
    },
    {
     "name": "stdout",
     "output_type": "stream",
     "text": [
      "Epoch 10: Train loss: 0.0057603183608660674\n"
     ]
    },
    {
     "name": "stdout",
     "output_type": "stream",
     "text": [
      "Epoch 11: Train loss: 0.00574735732986889\n"
     ]
    },
    {
     "name": "stdout",
     "output_type": "stream",
     "text": [
      "Epoch 12: Train loss: 0.0057680506298833705\n"
     ]
    },
    {
     "name": "stdout",
     "output_type": "stream",
     "text": [
      "Epoch 13: Train loss: 0.005770507117020006\n"
     ]
    },
    {
     "name": "stdout",
     "output_type": "stream",
     "text": [
      "Epoch 14: Train loss: 0.005762431614021671\n"
     ]
    },
    {
     "name": "stdout",
     "output_type": "stream",
     "text": [
      "Epoch 15: Train loss: 0.005773173513366504\n"
     ]
    },
    {
     "name": "stdout",
     "output_type": "stream",
     "text": [
      "Epoch 16: Train loss: 0.005779150041176918\n"
     ]
    },
    {
     "name": "stdout",
     "output_type": "stream",
     "text": [
      "Epoch 17: Train loss: 0.005764734683597976\n"
     ]
    },
    {
     "name": "stdout",
     "output_type": "stream",
     "text": [
      "Epoch 18: Train loss: 0.005706065482994977\n"
     ]
    },
    {
     "name": "stdout",
     "output_type": "stream",
     "text": [
      "Epoch 19: Train loss: 0.005719612614112966\n"
     ]
    },
    {
     "name": "stdout",
     "output_type": "stream",
     "text": [
      "Epoch 20: Train loss: 0.00571348830819764\n"
     ]
    },
    {
     "name": "stdout",
     "output_type": "stream",
     "text": [
      "Epoch 21: Train loss: 0.00571715617255169\n"
     ]
    },
    {
     "name": "stdout",
     "output_type": "stream",
     "text": [
      "Epoch 22: Train loss: 0.005729022412065496\n"
     ]
    },
    {
     "name": "stdout",
     "output_type": "stream",
     "text": [
      "Epoch 23: Train loss: 0.005687997368303068\n"
     ]
    },
    {
     "name": "stdout",
     "output_type": "stream",
     "text": [
      "Epoch 24: Train loss: 0.005710234564352543\n"
     ]
    },
    {
     "name": "stdout",
     "output_type": "stream",
     "text": [
      "Epoch 25: Train loss: 0.005712788501516619\n"
     ]
    },
    {
     "name": "stdout",
     "output_type": "stream",
     "text": [
      "Epoch 26: Train loss: 0.005745072486473525\n"
     ]
    },
    {
     "name": "stdout",
     "output_type": "stream",
     "text": [
      "Epoch 27: Train loss: 0.005706334969108092\n"
     ]
    },
    {
     "name": "stdout",
     "output_type": "stream",
     "text": [
      "Epoch 28: Train loss: 0.00564785862757646\n"
     ]
    },
    {
     "name": "stdout",
     "output_type": "stream",
     "text": [
      "Epoch 29: Train loss: 0.005629288476515323\n"
     ]
    },
    {
     "name": "stdout",
     "output_type": "stream",
     "text": [
      "Epoch 30: Train loss: 0.005729566538270484\n"
     ]
    },
    {
     "name": "stdout",
     "output_type": "stream",
     "text": [
      "Epoch 31: Train loss: 0.00578799356627179\n"
     ]
    },
    {
     "name": "stdout",
     "output_type": "stream",
     "text": [
      "Epoch 32: Train loss: 0.005735208047553897\n"
     ]
    },
    {
     "name": "stdout",
     "output_type": "stream",
     "text": [
      "Epoch 33: Train loss: 0.005688068975119831\n"
     ]
    },
    {
     "name": "stdout",
     "output_type": "stream",
     "text": [
      "Epoch 34: Train loss: 0.005614016248666226\n"
     ]
    },
    {
     "name": "stdout",
     "output_type": "stream",
     "text": [
      "Epoch 35: Train loss: 0.005598634214913275\n"
     ]
    },
    {
     "name": "stdout",
     "output_type": "stream",
     "text": [
      "Epoch 36: Train loss: 0.0056140958499956\n"
     ]
    },
    {
     "name": "stdout",
     "output_type": "stream",
     "text": [
      "Epoch 37: Train loss: 0.005595742262146892\n"
     ]
    },
    {
     "name": "stdout",
     "output_type": "stream",
     "text": [
      "Epoch 38: Train loss: 0.005600848146020732\n"
     ]
    },
    {
     "name": "stdout",
     "output_type": "stream",
     "text": [
      "Epoch 39: Train loss: 0.005581310801604327\n"
     ]
    },
    {
     "name": "stdout",
     "output_type": "stream",
     "text": [
      "Epoch 40: Train loss: 0.005576675581408942\n"
     ]
    },
    {
     "name": "stdout",
     "output_type": "stream",
     "text": [
      "Epoch 41: Train loss: 0.005580875124940847\n"
     ]
    },
    {
     "name": "stdout",
     "output_type": "stream",
     "text": [
      "Epoch 42: Train loss: 0.0055766456413697055\n"
     ]
    },
    {
     "name": "stdout",
     "output_type": "stream",
     "text": [
      "Epoch 43: Train loss: 0.005575444607777482\n"
     ]
    },
    {
     "name": "stdout",
     "output_type": "stream",
     "text": [
      "Epoch 44: Train loss: 0.005623326295035634\n"
     ]
    },
    {
     "name": "stdout",
     "output_type": "stream",
     "text": [
      "Epoch 45: Train loss: 0.005674237097078498\n"
     ]
    },
    {
     "name": "stdout",
     "output_type": "stream",
     "text": [
      "Epoch 46: Train loss: 0.0056103289890241746\n"
     ]
    },
    {
     "name": "stdout",
     "output_type": "stream",
     "text": [
      "Epoch 47: Train loss: 0.0055329817188705535\n"
     ]
    },
    {
     "name": "stdout",
     "output_type": "stream",
     "text": [
      "Epoch 48: Train loss: 0.005481103901810786\n"
     ]
    },
    {
     "name": "stdout",
     "output_type": "stream",
     "text": [
      "Epoch 49: Train loss: 0.00548230285280721\n"
     ]
    },
    {
     "name": "stdout",
     "output_type": "stream",
     "text": [
      "Epoch 50: Train loss: 0.005506481591889516\n"
     ]
    },
    {
     "name": "stdout",
     "output_type": "stream",
     "text": [
      "Epoch 51: Train loss: 0.0056261521288530625\n"
     ]
    },
    {
     "name": "stdout",
     "output_type": "stream",
     "text": [
      "Epoch 52: Train loss: 0.0054761372377818565\n"
     ]
    },
    {
     "name": "stdout",
     "output_type": "stream",
     "text": [
      "Epoch 53: Train loss: 0.0054633372027347695\n"
     ]
    },
    {
     "name": "stdout",
     "output_type": "stream",
     "text": [
      "Epoch 54: Train loss: 0.005499559172250806\n"
     ]
    },
    {
     "name": "stdout",
     "output_type": "stream",
     "text": [
      "Epoch 55: Train loss: 0.00554237147753543\n"
     ]
    },
    {
     "name": "stdout",
     "output_type": "stream",
     "text": [
      "Epoch 56: Train loss: 0.005551245536139988\n"
     ]
    },
    {
     "name": "stdout",
     "output_type": "stream",
     "text": [
      "Epoch 57: Train loss: 0.005449077393859625\n"
     ]
    },
    {
     "name": "stdout",
     "output_type": "stream",
     "text": [
      "Epoch 58: Train loss: 0.005373258654900054\n"
     ]
    },
    {
     "name": "stdout",
     "output_type": "stream",
     "text": [
      "Epoch 59: Train loss: 0.005349917547341357\n"
     ]
    },
    {
     "name": "stdout",
     "output_type": "stream",
     "text": [
      "Epoch 60: Train loss: 0.005335770126313288\n"
     ]
    },
    {
     "name": "stdout",
     "output_type": "stream",
     "text": [
      "Epoch 61: Train loss: 0.005355028996362965\n"
     ]
    },
    {
     "name": "stdout",
     "output_type": "stream",
     "text": [
      "Epoch 62: Train loss: 0.005401861839036041\n"
     ]
    },
    {
     "name": "stdout",
     "output_type": "stream",
     "text": [
      "Epoch 63: Train loss: 0.005376352899846561\n"
     ]
    },
    {
     "name": "stdout",
     "output_type": "stream",
     "text": [
      "Epoch 64: Train loss: 0.005362083407198178\n"
     ]
    },
    {
     "name": "stdout",
     "output_type": "stream",
     "text": [
      "Epoch 65: Train loss: 0.005363573903772742\n"
     ]
    },
    {
     "name": "stdout",
     "output_type": "stream",
     "text": [
      "Epoch 66: Train loss: 0.005364898909279641\n"
     ]
    },
    {
     "name": "stdout",
     "output_type": "stream",
     "text": [
      "Epoch 67: Train loss: 0.005350543651729822\n"
     ]
    },
    {
     "name": "stdout",
     "output_type": "stream",
     "text": [
      "Epoch 68: Train loss: 0.005338904052536855\n"
     ]
    },
    {
     "name": "stdout",
     "output_type": "stream",
     "text": [
      "Epoch 69: Train loss: 0.0053516154732317365\n"
     ]
    },
    {
     "name": "stdout",
     "output_type": "stream",
     "text": [
      "Epoch 70: Train loss: 0.005314644390439734\n"
     ]
    },
    {
     "name": "stdout",
     "output_type": "stream",
     "text": [
      "Epoch 71: Train loss: 0.005358039144862522\n"
     ]
    },
    {
     "name": "stdout",
     "output_type": "stream",
     "text": [
      "Epoch 72: Train loss: 0.005325092649721402\n"
     ]
    },
    {
     "name": "stdout",
     "output_type": "stream",
     "text": [
      "Epoch 73: Train loss: 0.005231908297641797\n"
     ]
    },
    {
     "name": "stdout",
     "output_type": "stream",
     "text": [
      "Epoch 74: Train loss: 0.005229404479502997\n"
     ]
    },
    {
     "name": "stdout",
     "output_type": "stream",
     "text": [
      "Epoch 75: Train loss: 0.005233148128745404\n"
     ]
    },
    {
     "name": "stdout",
     "output_type": "stream",
     "text": [
      "Epoch 76: Train loss: 0.005236182322210454\n"
     ]
    },
    {
     "name": "stdout",
     "output_type": "stream",
     "text": [
      "Epoch 77: Train loss: 0.005198297615935828\n"
     ]
    },
    {
     "name": "stdout",
     "output_type": "stream",
     "text": [
      "Epoch 78: Train loss: 0.005232748862831516\n"
     ]
    },
    {
     "name": "stdout",
     "output_type": "stream",
     "text": [
      "Epoch 79: Train loss: 0.005219630790042116\n"
     ]
    },
    {
     "name": "stdout",
     "output_type": "stream",
     "text": [
      "Epoch 80: Train loss: 0.005240845171972475\n"
     ]
    },
    {
     "name": "stdout",
     "output_type": "stream",
     "text": [
      "Epoch 81: Train loss: 0.005237689317065351\n"
     ]
    },
    {
     "name": "stdout",
     "output_type": "stream",
     "text": [
      "Epoch 82: Train loss: 0.005229637790669469\n"
     ]
    },
    {
     "name": "stdout",
     "output_type": "stream",
     "text": [
      "Epoch 83: Train loss: 0.005234424857066032\n"
     ]
    },
    {
     "name": "stdout",
     "output_type": "stream",
     "text": [
      "Epoch 84: Train loss: 0.0051735718050932\n"
     ]
    },
    {
     "name": "stdout",
     "output_type": "stream",
     "text": [
      "Epoch 85: Train loss: 0.005167115242914\n"
     ]
    },
    {
     "name": "stdout",
     "output_type": "stream",
     "text": [
      "Epoch 86: Train loss: 0.005175815079797139\n"
     ]
    },
    {
     "name": "stdout",
     "output_type": "stream",
     "text": [
      "Epoch 87: Train loss: 0.005113677747864673\n"
     ]
    },
    {
     "name": "stdout",
     "output_type": "stream",
     "text": [
      "Epoch 88: Train loss: 0.005134410477500964\n"
     ]
    },
    {
     "name": "stdout",
     "output_type": "stream",
     "text": [
      "Epoch 89: Train loss: 0.0051669862745527895\n"
     ]
    },
    {
     "name": "stdout",
     "output_type": "stream",
     "text": [
      "Epoch 90: Train loss: 0.005147346456911652\n"
     ]
    },
    {
     "name": "stdout",
     "output_type": "stream",
     "text": [
      "Epoch 91: Train loss: 0.005150317868336718\n"
     ]
    },
    {
     "name": "stdout",
     "output_type": "stream",
     "text": [
      "Epoch 92: Train loss: 0.005121785892728478\n"
     ]
    },
    {
     "name": "stdout",
     "output_type": "stream",
     "text": [
      "Epoch 93: Train loss: 0.005114337840573268\n"
     ]
    },
    {
     "name": "stdout",
     "output_type": "stream",
     "text": [
      "Epoch 94: Train loss: 0.005155161042955328\n"
     ]
    },
    {
     "name": "stdout",
     "output_type": "stream",
     "text": [
      "Epoch 95: Train loss: 0.005249772898535779\n"
     ]
    },
    {
     "name": "stdout",
     "output_type": "stream",
     "text": [
      "Epoch 96: Train loss: 0.005092267894205895\n"
     ]
    },
    {
     "name": "stdout",
     "output_type": "stream",
     "text": [
      "Epoch 97: Train loss: 0.005091665576192293\n"
     ]
    },
    {
     "name": "stdout",
     "output_type": "stream",
     "text": [
      "Epoch 98: Train loss: 0.005075403379197133\n"
     ]
    },
    {
     "name": "stdout",
     "output_type": "stream",
     "text": [
      "Epoch 99: Train loss: 0.005018807192669904\n"
     ]
    },
    {
     "name": "stdout",
     "output_type": "stream",
     "text": [
      "Epoch 100: Train loss: 0.00502141490875882\n"
     ]
    },
    {
     "name": "stdout",
     "output_type": "stream",
     "text": [
      "Epoch 101: Train loss: 0.00504965850033183\n"
     ]
    },
    {
     "name": "stdout",
     "output_type": "stream",
     "text": [
      "Epoch 102: Train loss: 0.005093088919455383\n"
     ]
    },
    {
     "name": "stdout",
     "output_type": "stream",
     "text": [
      "Epoch 103: Train loss: 0.005091099611463699\n"
     ]
    },
    {
     "name": "stdout",
     "output_type": "stream",
     "text": [
      "Epoch 104: Train loss: 0.005397963285089491\n"
     ]
    },
    {
     "name": "stdout",
     "output_type": "stream",
     "text": [
      "Epoch 105: Train loss: 0.0052641856880422605\n"
     ]
    },
    {
     "name": "stdout",
     "output_type": "stream",
     "text": [
      "Epoch 106: Train loss: 0.005048872866330946\n"
     ]
    },
    {
     "name": "stdout",
     "output_type": "stream",
     "text": [
      "Epoch 107: Train loss: 0.004965303192271831\n"
     ]
    },
    {
     "name": "stdout",
     "output_type": "stream",
     "text": [
      "Epoch 108: Train loss: 0.004913390085021866\n"
     ]
    },
    {
     "name": "stdout",
     "output_type": "stream",
     "text": [
      "Epoch 109: Train loss: 0.004890763821040697\n"
     ]
    },
    {
     "name": "stdout",
     "output_type": "stream",
     "text": [
      "Epoch 110: Train loss: 0.0048722194507718085\n"
     ]
    },
    {
     "name": "stdout",
     "output_type": "stream",
     "text": [
      "Epoch 111: Train loss: 0.004915029187983972\n"
     ]
    },
    {
     "name": "stdout",
     "output_type": "stream",
     "text": [
      "Epoch 112: Train loss: 0.004966070078947443\n"
     ]
    },
    {
     "name": "stdout",
     "output_type": "stream",
     "text": [
      "Epoch 113: Train loss: 0.004970508376929037\n"
     ]
    },
    {
     "name": "stdout",
     "output_type": "stream",
     "text": [
      "Epoch 114: Train loss: 0.004979134408479675\n"
     ]
    },
    {
     "name": "stdout",
     "output_type": "stream",
     "text": [
      "Epoch 115: Train loss: 0.004942491757584379\n"
     ]
    },
    {
     "name": "stdout",
     "output_type": "stream",
     "text": [
      "Epoch 116: Train loss: 0.004940036340477936\n"
     ]
    },
    {
     "name": "stdout",
     "output_type": "stream",
     "text": [
      "Epoch 117: Train loss: 0.0049544725745440795\n"
     ]
    },
    {
     "name": "stdout",
     "output_type": "stream",
     "text": [
      "Epoch 118: Train loss: 0.0050188877382018465\n"
     ]
    },
    {
     "name": "stdout",
     "output_type": "stream",
     "text": [
      "Epoch 119: Train loss: 0.005033285924768511\n"
     ]
    },
    {
     "name": "stdout",
     "output_type": "stream",
     "text": [
      "Epoch 120: Train loss: 0.005010848370519407\n"
     ]
    },
    {
     "name": "stdout",
     "output_type": "stream",
     "text": [
      "Epoch 121: Train loss: 0.004924836236626861\n"
     ]
    },
    {
     "name": "stdout",
     "output_type": "stream",
     "text": [
      "Epoch 122: Train loss: 0.004909707724731019\n"
     ]
    },
    {
     "name": "stdout",
     "output_type": "stream",
     "text": [
      "Epoch 123: Train loss: 0.004889348327637987\n"
     ]
    },
    {
     "name": "stdout",
     "output_type": "stream",
     "text": [
      "Epoch 124: Train loss: 0.004901974423332734\n"
     ]
    },
    {
     "name": "stdout",
     "output_type": "stream",
     "text": [
      "Epoch 125: Train loss: 0.004909422654817079\n"
     ]
    },
    {
     "name": "stdout",
     "output_type": "stream",
     "text": [
      "Epoch 126: Train loss: 0.0048725179010169935\n"
     ]
    },
    {
     "name": "stdout",
     "output_type": "stream",
     "text": [
      "Epoch 127: Train loss: 0.004846666826608967\n"
     ]
    },
    {
     "name": "stdout",
     "output_type": "stream",
     "text": [
      "Epoch 128: Train loss: 0.004895451820475307\n"
     ]
    },
    {
     "name": "stdout",
     "output_type": "stream",
     "text": [
      "Epoch 129: Train loss: 0.004927607909082732\n"
     ]
    },
    {
     "name": "stdout",
     "output_type": "stream",
     "text": [
      "Epoch 130: Train loss: 0.004923235074161215\n"
     ]
    },
    {
     "name": "stdout",
     "output_type": "stream",
     "text": [
      "Epoch 131: Train loss: 0.004975719564653774\n"
     ]
    },
    {
     "name": "stdout",
     "output_type": "stream",
     "text": [
      "Epoch 132: Train loss: 0.004931229569929394\n"
     ]
    },
    {
     "name": "stdout",
     "output_type": "stream",
     "text": [
      "Epoch 133: Train loss: 0.004952570229293184\n"
     ]
    },
    {
     "name": "stdout",
     "output_type": "stream",
     "text": [
      "Epoch 134: Train loss: 0.0050367330062262555\n"
     ]
    },
    {
     "name": "stdout",
     "output_type": "stream",
     "text": [
      "Epoch 135: Train loss: 0.004953489601215784\n"
     ]
    },
    {
     "name": "stdout",
     "output_type": "stream",
     "text": [
      "Epoch 136: Train loss: 0.0048140859013383695\n"
     ]
    },
    {
     "name": "stdout",
     "output_type": "stream",
     "text": [
      "Epoch 137: Train loss: 0.004753931016324366\n"
     ]
    },
    {
     "name": "stdout",
     "output_type": "stream",
     "text": [
      "Epoch 138: Train loss: 0.004735215507606243\n"
     ]
    },
    {
     "name": "stdout",
     "output_type": "stream",
     "text": [
      "Epoch 139: Train loss: 0.004794292985164422\n"
     ]
    },
    {
     "name": "stdout",
     "output_type": "stream",
     "text": [
      "Epoch 140: Train loss: 0.0048696352594948195\n"
     ]
    },
    {
     "name": "stdout",
     "output_type": "stream",
     "text": [
      "Epoch 141: Train loss: 0.004907230130258075\n"
     ]
    },
    {
     "name": "stdout",
     "output_type": "stream",
     "text": [
      "Epoch 142: Train loss: 0.004918612345577555\n"
     ]
    },
    {
     "name": "stdout",
     "output_type": "stream",
     "text": [
      "Epoch 143: Train loss: 0.004853357237942041\n"
     ]
    },
    {
     "name": "stdout",
     "output_type": "stream",
     "text": [
      "Epoch 144: Train loss: 0.004853311627905103\n"
     ]
    },
    {
     "name": "stdout",
     "output_type": "stream",
     "text": [
      "Epoch 145: Train loss: 0.004839344142361524\n"
     ]
    },
    {
     "name": "stdout",
     "output_type": "stream",
     "text": [
      "Epoch 146: Train loss: 0.004816694385273025\n"
     ]
    },
    {
     "name": "stdout",
     "output_type": "stream",
     "text": [
      "Epoch 147: Train loss: 0.004779449810690068\n"
     ]
    }
   ],
   "source": [
    "train_net(me, cvae, optim_me, optim_cvae)"
   ]
  }
 ],
 "metadata": {
  "kernelspec": {
   "display_name": "Python 3",
   "language": "python",
   "name": "python3"
  },
  "language_info": {
   "codemirror_mode": {
    "name": "ipython",
    "version": 3
   },
   "file_extension": ".py",
   "mimetype": "text/x-python",
   "name": "python",
   "nbconvert_exporter": "python",
   "pygments_lexer": "ipython3",
   "version": "3.6.4"
  },
  "papermill": {
   "default_parameters": {},
   "duration": null,
   "end_time": null,
   "environment_variables": {},
   "exception": null,
   "input_path": "__notebook__.ipynb",
   "output_path": "__notebook__.ipynb",
   "parameters": {},
   "start_time": "2023-04-04T04:49:42.596303",
   "version": "2.4.0"
  }
 },
 "nbformat": 4,
 "nbformat_minor": 5
}
