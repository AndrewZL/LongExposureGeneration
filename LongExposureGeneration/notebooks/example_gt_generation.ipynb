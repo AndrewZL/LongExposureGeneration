{
 "cells": [
  {
   "cell_type": "code",
   "execution_count": 1,
   "id": "bc21f412",
   "metadata": {
    "_cell_guid": "b1076dfc-b9ad-4769-8c92-a6c4dae69d19",
    "_uuid": "8f2839f25d086af736a60e9eeb907d3b93b6e0e5",
    "execution": {
     "iopub.execute_input": "2023-03-14T05:05:38.850372Z",
     "iopub.status.busy": "2023-03-14T05:05:38.849873Z",
     "iopub.status.idle": "2023-03-14T05:05:38.861724Z",
     "shell.execute_reply": "2023-03-14T05:05:38.860581Z"
    },
    "papermill": {
     "duration": 0.020799,
     "end_time": "2023-03-14T05:05:38.864586",
     "exception": false,
     "start_time": "2023-03-14T05:05:38.843787",
     "status": "completed"
    },
    "tags": []
   },
   "outputs": [],
   "source": [
    "import numpy as np\n",
    "from PIL import Image\n",
    "import os\n",
    "import cv2\n",
    "import matplotlib.pyplot as plt"
   ]
  },
  {
   "cell_type": "code",
   "execution_count": 4,
   "id": "1f7af437",
   "metadata": {
    "execution": {
     "iopub.execute_input": "2023-03-14T05:05:38.908159Z",
     "iopub.status.busy": "2023-03-14T05:05:38.906830Z"
    },
    "papermill": {
     "duration": 7810.196745,
     "end_time": "2023-03-14T07:15:49.099478",
     "exception": false,
     "start_time": "2023-03-14T05:05:38.902733",
     "status": "completed"
    },
    "tags": []
   },
   "outputs": [],
   "source": [
    "thresh = 10\n",
    "\n",
    "def generate_ground_truth(input_dir, gt_dir, thresh):\n",
    "    os.mkdir(gt_dir)\n",
    "    root = input_dir\n",
    "    # exist = os.listdir(gt_dir)\n",
    "\n",
    "    for folder in os.listdir(root):\n",
    "        for subfolder in os.listdir(root + folder):\n",
    "            savename = subfolder + '.jpg'\n",
    "            # if savename in exist:\n",
    "            #     continue\n",
    "            filenames = os.listdir(root + folder + '/' + subfolder)\n",
    "            prefix = root + folder + '/' + subfolder + '/'\n",
    "            photo_seq = np.array([np.array(Image.open(prefix + fname)) for fname in filenames])\n",
    "\n",
    "            mean_frame = np.array(np.mean(photo_seq, axis=0), dtype=np.uint8)\n",
    "            long_exposure = Image.fromarray(mean_frame)\n",
    "\n",
    "            # only save if laplace variance is greater than the threshold\n",
    "            gray_image = cv2.cvtColor(mean_frame, cv2.COLOR_RGB2GRAY)\n",
    "            laplace_var =  cv2.Laplacian(gray_image, cv2.CV_64F).var()\n",
    "\n",
    "            if laplace_var > thresh:\n",
    "                long_exposure.save(f\"/kaggle/working/ground_truth/{subfolder}.jpg\")\n",
    "\n",
    "generate_ground_truth('/kaggle/input/aps360-sky-dataset/train/', '/kaggle/working/ground_truth/', thresh)"
   ]
  }
 ],
 "metadata": {
  "kernelspec": {
   "display_name": "Python 3",
   "language": "python",
   "name": "python3"
  },
  "language_info": {
   "codemirror_mode": {
    "name": "ipython",
    "version": 3
   },
   "file_extension": ".py",
   "mimetype": "text/x-python",
   "name": "python",
   "nbconvert_exporter": "python",
   "pygments_lexer": "ipython3",
   "version": "3.6.4"
  },
  "papermill": {
   "default_parameters": {},
   "duration": 7822.431602,
   "end_time": "2023-03-14T07:15:50.113688",
   "environment_variables": {},
   "exception": null,
   "input_path": "__notebook__.ipynb",
   "output_path": "__notebook__.ipynb",
   "parameters": {},
   "start_time": "2023-03-14T05:05:27.682086",
   "version": "2.4.0"
  }
 },
 "nbformat": 4,
 "nbformat_minor": 5
}
