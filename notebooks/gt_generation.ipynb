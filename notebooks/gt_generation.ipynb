{
 "cells": [
  {
   "cell_type": "code",
   "execution_count": 1,
   "id": "bc21f412",
   "metadata": {
    "_cell_guid": "b1076dfc-b9ad-4769-8c92-a6c4dae69d19",
    "_uuid": "8f2839f25d086af736a60e9eeb907d3b93b6e0e5",
    "execution": {
     "iopub.execute_input": "2023-03-14T05:05:38.850372Z",
     "iopub.status.busy": "2023-03-14T05:05:38.849873Z",
     "iopub.status.idle": "2023-03-14T05:05:38.861724Z",
     "shell.execute_reply": "2023-03-14T05:05:38.860581Z"
    },
    "papermill": {
     "duration": 0.020799,
     "end_time": "2023-03-14T05:05:38.864586",
     "exception": false,
     "start_time": "2023-03-14T05:05:38.843787",
     "status": "completed"
    },
    "tags": []
   },
   "outputs": [],
   "source": [
    "import numpy as np\n",
    "from PIL import Image\n",
    "import os\n",
    "import cv2\n",
    "import matplotlib.pyplot as plt\n"
   ]
  },
  {
   "cell_type": "code",
   "execution_count": 2,
   "id": "4e52ffc9",
   "metadata": {
    "execution": {
     "iopub.execute_input": "2023-03-14T05:05:38.873253Z",
     "iopub.status.busy": "2023-03-14T05:05:38.872433Z",
     "iopub.status.idle": "2023-03-14T05:05:38.878004Z",
     "shell.execute_reply": "2023-03-14T05:05:38.876806Z"
    },
    "papermill": {
     "duration": 0.012709,
     "end_time": "2023-03-14T05:05:38.880633",
     "exception": false,
     "start_time": "2023-03-14T05:05:38.867924",
     "status": "completed"
    },
    "tags": []
   },
   "outputs": [],
   "source": [
    "# # Rename and copy dataset to the working kaggle folder \n",
    "# import shutil \n",
    "\n",
    "# os.mkdir(\"/kaggle/working/dataset\")\n",
    "\n",
    "# root = '/kaggle/input/aps360-sky-train-dataset/'\n",
    "\n",
    "# i = 0\n",
    "# counter = 0\n",
    "# for folder in os.listdir(root):\n",
    "#     for subfolder in os.listdir(root + folder):\n",
    "#         folder_name = str(counter).rjust(5, \"0\")\n",
    "        \n",
    "#         dst = \"/kaggle/working/dataset/\" + folder_name\n",
    "#         src = root + folder + '/' + subfolder + '/'\n",
    "#         shutil.copytree(src, dst)\n",
    "#         counter += 1\n",
    "#     i+=1\n",
    "#     if i==2:\n",
    "#         break"
   ]
  },
  {
   "cell_type": "code",
   "execution_count": 3,
   "id": "7263fa8d",
   "metadata": {
    "execution": {
     "iopub.execute_input": "2023-03-14T05:05:38.888130Z",
     "iopub.status.busy": "2023-03-14T05:05:38.887655Z",
     "iopub.status.idle": "2023-03-14T05:05:38.892703Z",
     "shell.execute_reply": "2023-03-14T05:05:38.891524Z"
    },
    "papermill": {
     "duration": 0.011696,
     "end_time": "2023-03-14T05:05:38.895138",
     "exception": false,
     "start_time": "2023-03-14T05:05:38.883442",
     "status": "completed"
    },
    "tags": []
   },
   "outputs": [],
   "source": [
    "# import shutil \n",
    "# for file in os.listdir('/kaggle/working'):\n",
    "#     shutil.rmtree('/kaggle/working/' + file)\n",
    "# #     if os.path.isdir(file):\n",
    "# #         os.rmdir(file)\n",
    "# #     if file[0] != '.':\n",
    "# #         os.remove('/kaggle/working/' + file)\n",
    "        \n"
   ]
  },
  {
   "cell_type": "markdown",
   "id": "81922a66",
   "metadata": {
    "papermill": {
     "duration": 0.00233,
     "end_time": "2023-03-14T05:05:38.900271",
     "exception": false,
     "start_time": "2023-03-14T05:05:38.897941",
     "status": "completed"
    },
    "tags": []
   },
   "source": [
    "# Main"
   ]
  },
  {
   "cell_type": "code",
   "execution_count": 4,
   "id": "1f7af437",
   "metadata": {
    "execution": {
     "iopub.execute_input": "2023-03-14T05:05:38.908159Z",
     "iopub.status.busy": "2023-03-14T05:05:38.906830Z"
    },
    "papermill": {
     "duration": 7810.196745,
     "end_time": "2023-03-14T07:15:49.099478",
     "exception": false,
     "start_time": "2023-03-14T05:05:38.902733",
     "status": "completed"
    },
    "tags": []
   },
   "outputs": [],
   "source": [
    "\n",
    "thresh = 10\n",
    "\n",
    "os.mkdir(\"/kaggle/working/ground_truth\")\n",
    "root = '/kaggle/input/aps360-sky-train-dataset/'\n",
    "exist = os.listdir('/kaggle/working/ground_truth/')\n",
    "\n",
    "for folder in os.listdir(root):\n",
    "    for subfolder in os.listdir(root + folder):\n",
    "        savename = subfolder + '.jpg'\n",
    "        if savename in exist:\n",
    "            continue\n",
    "        filenames = os.listdir(root + folder + '/' + subfolder)\n",
    "        prefix = root + folder + '/' + subfolder + '/'\n",
    "        photo_seq = np.array([np.array(Image.open(prefix + fname)) for fname in filenames])\n",
    "        \n",
    "        mean_frame = np.array(np.mean(photo_seq, axis=0), dtype=np.uint8)\n",
    "        long_exposure = Image.fromarray(mean_frame)\n",
    "        \n",
    "        # only save if laplace variance is greater than the threshold\n",
    "        gray_image = cv2.cvtColor(mean_frame, cv2.COLOR_RGB2GRAY)\n",
    "        laplace_var =  cv2.Laplacian(gray_image, cv2.CV_64F).var()\n",
    "\n",
    "        if laplace_var > thresh:\n",
    "            long_exposure.save(f\"/kaggle/working/ground_truth/{subfolder}.jpg\")\n",
    "\n"
   ]
  },
  {
   "cell_type": "markdown",
   "id": "8f1ba2c7",
   "metadata": {
    "papermill": {
     "duration": null,
     "end_time": null,
     "exception": null,
     "start_time": null,
     "status": "completed"
    },
    "tags": []
   },
   "source": [
    "Long Exposure Ground Truth Generation"
   ]
  },
  {
   "cell_type": "code",
   "execution_count": null,
   "id": "54db2f53",
   "metadata": {
    "execution": {
     "iopub.execute_input": "2023-03-14T02:25:41.751268Z",
     "iopub.status.busy": "2023-03-14T02:25:41.750706Z",
     "iopub.status.idle": "2023-03-14T02:25:46.986590Z",
     "shell.execute_reply": "2023-03-14T02:25:46.985225Z",
     "shell.execute_reply.started": "2023-03-14T02:25:41.751214Z"
    },
    "papermill": {
     "duration": null,
     "end_time": null,
     "exception": null,
     "start_time": null,
     "status": "completed"
    },
    "tags": []
   },
   "outputs": [],
   "source": [
    "# # Testing Laplace Variance \n",
    "\n",
    "# root = '/kaggle/working/ground_truth/'\n",
    "# for file in os.listdir(root):\n",
    "#     image = cv2.imread(root + file)\n",
    "#     im_throwing = Image.open(root + file)\n",
    "#     gray_image = cv2.cvtColor(image, cv2.COLOR_BGR2GRAY)\n",
    "#     laplace_var =  cv2.Laplacian(image, cv2.CV_64F).var()\n",
    "#     rgbimage = cv2.cvtColor(image, cv2.COLOR_BGR2RGB)\n",
    "\n",
    "#     if laplace_var <= 10:\n",
    "        "
   ]
  }
 ],
 "metadata": {
  "kernelspec": {
   "display_name": "Python 3",
   "language": "python",
   "name": "python3"
  },
  "language_info": {
   "codemirror_mode": {
    "name": "ipython",
    "version": 3
   },
   "file_extension": ".py",
   "mimetype": "text/x-python",
   "name": "python",
   "nbconvert_exporter": "python",
   "pygments_lexer": "ipython3",
   "version": "3.6.4"
  },
  "papermill": {
   "default_parameters": {},
   "duration": 7822.431602,
   "end_time": "2023-03-14T07:15:50.113688",
   "environment_variables": {},
   "exception": null,
   "input_path": "__notebook__.ipynb",
   "output_path": "__notebook__.ipynb",
   "parameters": {},
   "start_time": "2023-03-14T05:05:27.682086",
   "version": "2.4.0"
  }
 },
 "nbformat": 4,
 "nbformat_minor": 5
}
